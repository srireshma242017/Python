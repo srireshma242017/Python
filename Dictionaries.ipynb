{
 "cells": [
  {
   "cell_type": "markdown",
   "metadata": {},
   "source": [
    "# Dictionary"
   ]
  },
  {
   "cell_type": "code",
   "execution_count": 17,
   "metadata": {},
   "outputs": [],
   "source": [
    "# Dictionary is a data structure for storing groups of objects.\n",
    "# It consists of a mapping of key-value pairs, where each key is associated with a value. \n",
    "# It can contain data with the same or different data types.\n",
    "# Dictionaries are unordered and mutable."
   ]
  },
  {
   "cell_type": "code",
   "execution_count": 18,
   "metadata": {},
   "outputs": [
    {
     "name": "stdout",
     "output_type": "stream",
     "text": [
      "<class 'dict'>\n"
     ]
    }
   ],
   "source": [
    "# creating empty dictionary\n",
    "dicti = {}\n",
    "print(type(dicti))"
   ]
  },
  {
   "cell_type": "code",
   "execution_count": 19,
   "metadata": {},
   "outputs": [
    {
     "name": "stdout",
     "output_type": "stream",
     "text": [
      "{'reshma': 19, 'yesh': 20, 'ramya': 16}\n"
     ]
    }
   ],
   "source": [
    "dicti = {\n",
    "    \"reshma\" : 19,\n",
    "    \"yesh\" : 20,\n",
    "    \"ramya\" : 16\n",
    "}\n",
    "print(dicti)"
   ]
  },
  {
   "cell_type": "code",
   "execution_count": 20,
   "metadata": {},
   "outputs": [
    {
     "data": {
      "text/plain": [
       "19"
      ]
     },
     "execution_count": 20,
     "metadata": {},
     "output_type": "execute_result"
    }
   ],
   "source": [
    "# accessing values\n",
    "dicti[\"reshma\"]"
   ]
  },
  {
   "cell_type": "code",
   "execution_count": 21,
   "metadata": {},
   "outputs": [],
   "source": [
    "# adding elements in dictionary\n",
    "#adding single element\n",
    "dicti[\"valli\"] = 18"
   ]
  },
  {
   "cell_type": "code",
   "execution_count": 22,
   "metadata": {},
   "outputs": [
    {
     "data": {
      "text/plain": [
       "{'reshma': 19, 'yesh': 20, 'ramya': 16, 'valli': 18}"
      ]
     },
     "execution_count": 22,
     "metadata": {},
     "output_type": "execute_result"
    }
   ],
   "source": [
    "dicti"
   ]
  },
  {
   "cell_type": "code",
   "execution_count": 23,
   "metadata": {},
   "outputs": [
    {
     "name": "stdout",
     "output_type": "stream",
     "text": [
      "{'reshma': 19, 'yesh': 20, 'ramya': 16, 'valli': 18, 'kalyani': 15, 'sunandi': 17}\n"
     ]
    }
   ],
   "source": [
    "#adding multiple elements\n",
    "x = {\n",
    "    \"kalyani\" : 15,\n",
    "    \"sunandi\" : 17\n",
    "}\n",
    "dicti.update(x)\n",
    "print(dicti)"
   ]
  },
  {
   "cell_type": "code",
   "execution_count": 24,
   "metadata": {},
   "outputs": [
    {
     "data": {
      "text/plain": [
       "19"
      ]
     },
     "execution_count": 24,
     "metadata": {},
     "output_type": "execute_result"
    }
   ],
   "source": [
    "#removing elements\n",
    "#removing single element\n",
    "dicti.pop(\"reshma\")"
   ]
  },
  {
   "cell_type": "code",
   "execution_count": 25,
   "metadata": {},
   "outputs": [
    {
     "name": "stdout",
     "output_type": "stream",
     "text": [
      "{'yesh': 20, 'ramya': 16, 'valli': 18, 'kalyani': 15, 'sunandi': 17}\n"
     ]
    }
   ],
   "source": [
    "print(dicti)"
   ]
  },
  {
   "cell_type": "code",
   "execution_count": 26,
   "metadata": {},
   "outputs": [
    {
     "name": "stdout",
     "output_type": "stream",
     "text": [
      "{'yesh': 20, 'ramya': 16, 'valli': 18}\n"
     ]
    }
   ],
   "source": [
    "#removing multiple elements\n",
    "y = [\"kalyani\", \"sunandi\"]\n",
    "for i in y:\n",
    "    dicti.pop(i)\n",
    "print(dicti)"
   ]
  },
  {
   "cell_type": "code",
   "execution_count": 27,
   "metadata": {},
   "outputs": [
    {
     "name": "stdout",
     "output_type": "stream",
     "text": [
      "{'yesh': 21, 'ramya': 16, 'valli': 18}\n"
     ]
    }
   ],
   "source": [
    "#changing values in dictionary\n",
    "#changing single value\n",
    "dicti[\"yesh\"] = 21\n",
    "print(dicti)"
   ]
  },
  {
   "cell_type": "code",
   "execution_count": 28,
   "metadata": {},
   "outputs": [
    {
     "name": "stdout",
     "output_type": "stream",
     "text": [
      "{'yesh': 21, 'ramya': 17, 'valli': 19}\n"
     ]
    }
   ],
   "source": [
    "#changing multiple elements\n",
    "k = {\n",
    "    \"ramya\" : 17,\n",
    "    \"valli\" : 19\n",
    "}\n",
    "dicti.update(k)\n",
    "print(dicti)"
   ]
  },
  {
   "cell_type": "code",
   "execution_count": 29,
   "metadata": {},
   "outputs": [
    {
     "name": "stdout",
     "output_type": "stream",
     "text": [
      "yesh\n",
      "ramya\n",
      "valli\n"
     ]
    }
   ],
   "source": [
    "#iterating over dictionary keys\n",
    "for key in dicti.keys():\n",
    "    print(key)"
   ]
  },
  {
   "cell_type": "code",
   "execution_count": 31,
   "metadata": {},
   "outputs": [
    {
     "name": "stdout",
     "output_type": "stream",
     "text": [
      "57\n"
     ]
    }
   ],
   "source": [
    "#iterating over dictionary values\n",
    "sum1 = 0\n",
    "for value in dicti.values():\n",
    "    sum1 += value\n",
    "print(sum1)"
   ]
  },
  {
   "cell_type": "code",
   "execution_count": 32,
   "metadata": {},
   "outputs": [
    {
     "data": {
      "text/plain": [
       "3"
      ]
     },
     "execution_count": 32,
     "metadata": {},
     "output_type": "execute_result"
    }
   ],
   "source": [
    "#len() -> used to find length of the dictionary\n",
    "len(dicti)"
   ]
  },
  {
   "cell_type": "code",
   "execution_count": 34,
   "metadata": {},
   "outputs": [
    {
     "name": "stdout",
     "output_type": "stream",
     "text": [
      "{'yesh': 21, 'ramya': 17, 'valli': 19}\n"
     ]
    }
   ],
   "source": [
    "l = dicti.copy() # Returns a copy of the dictionary\n",
    "print(l)"
   ]
  },
  {
   "cell_type": "code",
   "execution_count": 40,
   "metadata": {},
   "outputs": [
    {
     "data": {
      "text/plain": [
       "21"
      ]
     },
     "execution_count": 40,
     "metadata": {},
     "output_type": "execute_result"
    }
   ],
   "source": [
    "dicti.get(\"yesh\") # Returns the value of the specified key"
   ]
  },
  {
   "cell_type": "code",
   "execution_count": 41,
   "metadata": {},
   "outputs": [
    {
     "data": {
      "text/plain": [
       "dict_items([('yesh', 21), ('ramya', 17), ('valli', 19)])"
      ]
     },
     "execution_count": 41,
     "metadata": {},
     "output_type": "execute_result"
    }
   ],
   "source": [
    "dicti.items() # Returns a list containing a tuple for each key value pair"
   ]
  },
  {
   "cell_type": "code",
   "execution_count": 43,
   "metadata": {},
   "outputs": [
    {
     "data": {
      "text/plain": [
       "dict_keys(['yesh', 'ramya', 'valli'])"
      ]
     },
     "execution_count": 43,
     "metadata": {},
     "output_type": "execute_result"
    }
   ],
   "source": [
    "dicti.keys() # Returns a list containing the dictionary's keys"
   ]
  },
  {
   "cell_type": "code",
   "execution_count": 44,
   "metadata": {},
   "outputs": [
    {
     "data": {
      "text/plain": [
       "('valli', 19)"
      ]
     },
     "execution_count": 44,
     "metadata": {},
     "output_type": "execute_result"
    }
   ],
   "source": [
    "dicti.popitem() # Removes the last inserted key-value pair"
   ]
  },
  {
   "cell_type": "code",
   "execution_count": 46,
   "metadata": {},
   "outputs": [
    {
     "data": {
      "text/plain": [
       "dict_values([21, 17])"
      ]
     },
     "execution_count": 46,
     "metadata": {},
     "output_type": "execute_result"
    }
   ],
   "source": [
    "dicti.values() # Returns a list of all the values in the dictionary"
   ]
  },
  {
   "cell_type": "markdown",
   "metadata": {},
   "source": [
    "# Ordered dictionary"
   ]
  },
  {
   "cell_type": "code",
   "execution_count": 47,
   "metadata": {},
   "outputs": [],
   "source": [
    "#OrderedDict type which remembers the insertion order of (key, value) pairs in the dictionary and thus preserves the order."
   ]
  },
  {
   "cell_type": "code",
   "execution_count": 48,
   "metadata": {},
   "outputs": [
    {
     "name": "stdout",
     "output_type": "stream",
     "text": [
      "True\n"
     ]
    }
   ],
   "source": [
    "from collections import OrderedDict\n",
    "print(issubclass(OrderedDict, dict)) # It is a subclass of dict.from collections import OrderedDict"
   ]
  },
  {
   "cell_type": "code",
   "execution_count": 49,
   "metadata": {},
   "outputs": [
    {
     "name": "stdout",
     "output_type": "stream",
     "text": [
      "OrderedDict([('Name', 'reshma'), ('ID', '20B01A5429'), ('Branch', 'AI & Ds')])\n"
     ]
    }
   ],
   "source": [
    "students_list = OrderedDict()\n",
    "students_list[\"Name\"] = \"reshma\"\n",
    "students_list[\"ID\"] = \"20B01A5429\"\n",
    "students_list[\"Branch\"] = \"AI & Ds\"\n",
    "print(students_list)"
   ]
  },
  {
   "cell_type": "code",
   "execution_count": 50,
   "metadata": {},
   "outputs": [],
   "source": [
    "#Modifying the order of items in an OrderedDict\n",
    " #OrderedDict class has the method move_to_end() defined specifically to modify the order of items."
   ]
  },
  {
   "cell_type": "code",
   "execution_count": 51,
   "metadata": {},
   "outputs": [
    {
     "name": "stdout",
     "output_type": "stream",
     "text": [
      "OrderedDict([('Name', 'reshma'), ('Branch', 'AI & Ds'), ('ID', '20B01A5429')])\n"
     ]
    }
   ],
   "source": [
    "students_list.move_to_end(\"ID\")\n",
    "print(students_list)"
   ]
  },
  {
   "cell_type": "code",
   "execution_count": 54,
   "metadata": {},
   "outputs": [],
   "source": [
    "students_list[\"Name\"] = \"sri reshma\" # changing the key value"
   ]
  },
  {
   "cell_type": "code",
   "execution_count": 55,
   "metadata": {},
   "outputs": [
    {
     "name": "stdout",
     "output_type": "stream",
     "text": [
      "OrderedDict([('Name', 'sri reshma'), ('Branch', 'AI & Ds'), ('ID', '20B01A5429')])\n"
     ]
    }
   ],
   "source": [
    "print(students_list)"
   ]
  },
  {
   "cell_type": "code",
   "execution_count": 56,
   "metadata": {},
   "outputs": [
    {
     "name": "stdout",
     "output_type": "stream",
     "text": [
      "('ID', '20B01A5429')\n",
      "('Name', 'sri reshma')\n",
      "OrderedDict([('Branch', 'AI & Ds')])\n"
     ]
    }
   ],
   "source": [
    "print(students_list.popitem()) # Deleted the last item\n",
    "\n",
    "\n",
    "print(students_list.popitem(False)) # Deleting the first item\n",
    "print(students_list)"
   ]
  },
  {
   "cell_type": "code",
   "execution_count": 59,
   "metadata": {},
   "outputs": [
    {
     "name": "stdout",
     "output_type": "stream",
     "text": [
      "OrderedDict([('Branch', 'AI & Ds'), ('Name', 'sri reshma')])\n"
     ]
    }
   ],
   "source": [
    "#Reinserting a Deleted Item\n",
    "students_list[\"Name\"] = \"sri reshma\"\n",
    "print(students_list)"
   ]
  },
  {
   "cell_type": "markdown",
   "metadata": {},
   "source": [
    "# converting a dictionary to list and vice versa"
   ]
  },
  {
   "cell_type": "code",
   "execution_count": 63,
   "metadata": {},
   "outputs": [
    {
     "name": "stdout",
     "output_type": "stream",
     "text": [
      "{'yesh': 21, 'ramya': 17}\n",
      "['yesh', 'ramya']\n",
      "[21, 17]\n"
     ]
    }
   ],
   "source": [
    "print(dicti)\n",
    "print(list(dicti)) # converting keys in  dictionary to list\n",
    "print(list(dicti.values())) # converting values in  dictionary to list"
   ]
  },
  {
   "cell_type": "code",
   "execution_count": 67,
   "metadata": {},
   "outputs": [
    {
     "name": "stdout",
     "output_type": "stream",
     "text": [
      "{'reshma': 18, 'yesh': 19, 'ramya': 20}\n"
     ]
    }
   ],
   "source": [
    "def Converting_list_to_dict(a):\n",
    "    it = iter(a)\n",
    "    res = dict(zip(it, it))\n",
    "    return res\n",
    "         \n",
    "# Driver code\n",
    "l1 = ['reshma', 18, 'yesh', 19, 'ramya', 20]\n",
    "print(Converting_list_to_dict(l1))"
   ]
  },
  {
   "cell_type": "markdown",
   "metadata": {},
   "source": [
    "# Nested dictionary"
   ]
  },
  {
   "cell_type": "code",
   "execution_count": 68,
   "metadata": {},
   "outputs": [],
   "source": [
    "Dict = { 'Dict1': {'name': 'Reshma', 'age': '19'},\n",
    "         'Dict2': {'name': 'Yesh', 'age': '25'}}"
   ]
  },
  {
   "cell_type": "code",
   "execution_count": 71,
   "metadata": {},
   "outputs": [
    {
     "data": {
      "text/plain": [
       "'Reshma'"
      ]
     },
     "execution_count": 71,
     "metadata": {},
     "output_type": "execute_result"
    }
   ],
   "source": [
    "Dict[\"Dict1\"][\"name\"]"
   ]
  },
  {
   "cell_type": "code",
   "execution_count": 72,
   "metadata": {},
   "outputs": [],
   "source": [
    "Dict[\"Dict1\"][\"age\"] = 10"
   ]
  },
  {
   "cell_type": "code",
   "execution_count": 73,
   "metadata": {},
   "outputs": [
    {
     "data": {
      "text/plain": [
       "{'Dict1': {'name': 'Reshma', 'age': 10},\n",
       " 'Dict2': {'name': 'Yesh', 'age': '25'}}"
      ]
     },
     "execution_count": 73,
     "metadata": {},
     "output_type": "execute_result"
    }
   ],
   "source": [
    "Dict"
   ]
  },
  {
   "cell_type": "code",
   "execution_count": null,
   "metadata": {},
   "outputs": [],
   "source": []
  }
 ],
 "metadata": {
  "kernelspec": {
   "display_name": "Python 3",
   "language": "python",
   "name": "python3"
  },
  "language_info": {
   "codemirror_mode": {
    "name": "ipython",
    "version": 3
   },
   "file_extension": ".py",
   "mimetype": "text/x-python",
   "name": "python",
   "nbconvert_exporter": "python",
   "pygments_lexer": "ipython3",
   "version": "3.8.5"
  }
 },
 "nbformat": 4,
 "nbformat_minor": 4
}
